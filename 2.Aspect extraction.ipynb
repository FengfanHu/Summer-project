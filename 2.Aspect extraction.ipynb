{
 "cells": [
  {
   "cell_type": "code",
   "execution_count": 1,
   "id": "ee043a36-edfc-4f93-b58b-af54c176fec9",
   "metadata": {},
   "outputs": [
    {
     "name": "stdout",
     "output_type": "stream",
     "text": [
      "Version 1.7.9.7 of findfile is outdated. Version 1.7.9.8 was released Friday July 22, 2022.\n",
      "This script could only be used to manage NVIDIA GPUs,but no GPU found in your device\n"
     ]
    },
    {
     "name": "stderr",
     "output_type": "stream",
     "text": [
      "2022-08-07 08:33:45.458608: W tensorflow/stream_executor/platform/default/dso_loader.cc:64] Could not load dynamic library 'libcudart.so.11.0'; dlerror: libcudart.so.11.0: cannot open shared object file: No such file or directory\n",
      "2022-08-07 08:33:45.458653: I tensorflow/stream_executor/cuda/cudart_stub.cc:29] Ignore above cudart dlerror if you do not have a GPU set up on your machine.\n",
      "/home/studio-lab-user/.conda/envs/default/lib/python3.9/site-packages/keras/utils/image_utils.py:36: DeprecationWarning: NEAREST is deprecated and will be removed in Pillow 10 (2023-07-01). Use Resampling.NEAREST or Dither.NONE instead.\n",
      "  'nearest': pil_image.NEAREST,\n",
      "/home/studio-lab-user/.conda/envs/default/lib/python3.9/site-packages/keras/utils/image_utils.py:37: DeprecationWarning: BILINEAR is deprecated and will be removed in Pillow 10 (2023-07-01). Use Resampling.BILINEAR instead.\n",
      "  'bilinear': pil_image.BILINEAR,\n",
      "/home/studio-lab-user/.conda/envs/default/lib/python3.9/site-packages/keras/utils/image_utils.py:38: DeprecationWarning: BICUBIC is deprecated and will be removed in Pillow 10 (2023-07-01). Use Resampling.BICUBIC instead.\n",
      "  'bicubic': pil_image.BICUBIC,\n",
      "/home/studio-lab-user/.conda/envs/default/lib/python3.9/site-packages/keras/utils/image_utils.py:39: DeprecationWarning: HAMMING is deprecated and will be removed in Pillow 10 (2023-07-01). Use Resampling.HAMMING instead.\n",
      "  'hamming': pil_image.HAMMING,\n",
      "/home/studio-lab-user/.conda/envs/default/lib/python3.9/site-packages/keras/utils/image_utils.py:40: DeprecationWarning: BOX is deprecated and will be removed in Pillow 10 (2023-07-01). Use Resampling.BOX instead.\n",
      "  'box': pil_image.BOX,\n",
      "/home/studio-lab-user/.conda/envs/default/lib/python3.9/site-packages/keras/utils/image_utils.py:41: DeprecationWarning: LANCZOS is deprecated and will be removed in Pillow 10 (2023-07-01). Use Resampling.LANCZOS instead.\n",
      "  'lanczos': pil_image.LANCZOS,\n",
      "2022-08-07 08:33:47.431338: W tensorflow/stream_executor/platform/default/dso_loader.cc:64] Could not load dynamic library 'libcuda.so.1'; dlerror: libcuda.so.1: cannot open shared object file: No such file or directory\n",
      "2022-08-07 08:33:47.431401: W tensorflow/stream_executor/cuda/cuda_driver.cc:269] failed call to cuInit: UNKNOWN ERROR (303)\n",
      "2022-08-07 08:33:47.431441: I tensorflow/stream_executor/cuda/cuda_diagnostics.cc:156] kernel driver does not appear to be running on this host (default): /proc/driver/nvidia/version does not exist\n"
     ]
    },
    {
     "name": "stdout",
     "output_type": "stream",
     "text": [
      "Version 0.4.32 of metric_visualizer is outdated. Version 0.5.2 was released 2 days ago.\n",
      "Remote ABSADataset version: 2022.07.22 Local ABSADatasets version: 2022.07.22\n"
     ]
    }
   ],
   "source": [
    "from pyabsa import ABSADatasetList, available_checkpoints\n",
    "from pyabsa import ATEPCCheckpointManager"
   ]
  },
  {
   "cell_type": "code",
   "execution_count": 3,
   "id": "29e0b468-eb25-41f7-af9d-ad38b8c74d80",
   "metadata": {},
   "outputs": [
    {
     "name": "stderr",
     "output_type": "stream",
     "text": [
      "/home/studio-lab-user/.conda/envs/default/lib/python3.9/site-packages/pyabsa/functional/checkpoint/checkpoint_manager.py:298: DeprecationWarning: distutils Version classes are deprecated. Use packaging.version instead.\n",
      "  if max_ver == 'N.A.' or StrictVersion(min_ver) <= StrictVersion(__version__) <= StrictVersion(max_ver):\n",
      "ERROR:root:Internal Python error in the inspect module.\n",
      "Below is the traceback from this internal error.\n",
      "\n"
     ]
    },
    {
     "name": "stdout",
     "output_type": "stream",
     "text": [
      "\n",
      "Failed to query checkpoints (Error: invalid version number '1.16.6.1'), you can try manually download the checkpoints from: \n",
      "[1]\tHuggingface Space (Newer)\t: https://huggingface.co/spaces/yangheng/PyABSA-ATEPC/tree/main/checkpoint\n",
      "[2]\tGoogle Drive\t: https://drive.google.com/file/d/1CBVGPA3xdQqdkFFwzO5T2Q4reFtzFIJZ/view?usp=sharing\n",
      "[2]\tBaidu NetDisk\t: https://pan.baidu.com/s/1dvGqmnGG2T7MYm0VC9jWTg (Access Code: absa)\n",
      "\n",
      "Traceback (most recent call last):\n",
      "  File \"/home/studio-lab-user/.conda/envs/default/lib/python3.9/site-packages/pyabsa/functional/checkpoint/checkpoint_manager.py\", line 298, in available_checkpoints\n",
      "    if max_ver == 'N.A.' or StrictVersion(min_ver) <= StrictVersion(__version__) <= StrictVersion(max_ver):\n",
      "  File \"/home/studio-lab-user/.conda/envs/default/lib/python3.9/site-packages/setuptools/_distutils/version.py\", line 60, in __init__\n",
      "    self.parse(vstring)\n",
      "  File \"/home/studio-lab-user/.conda/envs/default/lib/python3.9/site-packages/setuptools/_distutils/version.py\", line 157, in parse\n",
      "    raise ValueError(\"invalid version number '%s'\" % vstring)\n",
      "ValueError: invalid version number '1.16.6.1'\n",
      "\n",
      "During handling of the above exception, another exception occurred:\n",
      "\n",
      "Traceback (most recent call last):\n",
      "  File \"/home/studio-lab-user/.conda/envs/default/lib/python3.9/site-packages/IPython/core/interactiveshell.py\", line 3457, in run_code\n",
      "    exec(code_obj, self.user_global_ns, self.user_ns)\n",
      "  File \"/tmp/ipykernel_261/1295291009.py\", line 1, in <module>\n",
      "    checkpoint_map = available_checkpoints()\n",
      "  File \"/home/studio-lab-user/.conda/envs/default/lib/python3.9/site-packages/pyabsa/functional/checkpoint/checkpoint_manager.py\", line 319, in available_checkpoints\n",
      "    sys.exit(-1)\n",
      "SystemExit: -1\n",
      "\n",
      "During handling of the above exception, another exception occurred:\n",
      "\n",
      "Traceback (most recent call last):\n",
      "  File \"/home/studio-lab-user/.conda/envs/default/lib/python3.9/site-packages/IPython/core/ultratb.py\", line 1101, in get_records\n",
      "    return _fixed_getinnerframes(etb, number_of_lines_of_context, tb_offset)\n",
      "  File \"/home/studio-lab-user/.conda/envs/default/lib/python3.9/site-packages/IPython/core/ultratb.py\", line 248, in wrapped\n",
      "    return f(*args, **kwargs)\n",
      "  File \"/home/studio-lab-user/.conda/envs/default/lib/python3.9/site-packages/IPython/core/ultratb.py\", line 281, in _fixed_getinnerframes\n",
      "    records = fix_frame_records_filenames(inspect.getinnerframes(etb, context))\n",
      "  File \"/home/studio-lab-user/.conda/envs/default/lib/python3.9/inspect.py\", line 1543, in getinnerframes\n",
      "    frameinfo = (tb.tb_frame,) + getframeinfo(tb, context)\n",
      "AttributeError: 'tuple' object has no attribute 'tb_frame'\n"
     ]
    },
    {
     "ename": "TypeError",
     "evalue": "object of type 'NoneType' has no len()",
     "output_type": "error",
     "traceback": [
      "\u001b[0;31m---------------------------------------------------------------------------\u001b[0m",
      "\u001b[0;31mValueError\u001b[0m                                Traceback (most recent call last)",
      "\u001b[0;32m~/.conda/envs/default/lib/python3.9/site-packages/pyabsa/functional/checkpoint/checkpoint_manager.py\u001b[0m in \u001b[0;36mavailable_checkpoints\u001b[0;34m(task)\u001b[0m\n\u001b[1;32m    297\u001b[0m             \u001b[0mmax_ver\u001b[0m \u001b[0;34m=\u001b[0m \u001b[0mmax_ver\u001b[0m \u001b[0;32mif\u001b[0m \u001b[0mmax_ver\u001b[0m \u001b[0;32melse\u001b[0m \u001b[0;34m'N.A.'\u001b[0m\u001b[0;34m\u001b[0m\u001b[0;34m\u001b[0m\u001b[0m\n\u001b[0;32m--> 298\u001b[0;31m             \u001b[0;32mif\u001b[0m \u001b[0mmax_ver\u001b[0m \u001b[0;34m==\u001b[0m \u001b[0;34m'N.A.'\u001b[0m \u001b[0;32mor\u001b[0m \u001b[0mStrictVersion\u001b[0m\u001b[0;34m(\u001b[0m\u001b[0mmin_ver\u001b[0m\u001b[0;34m)\u001b[0m \u001b[0;34m<=\u001b[0m \u001b[0mStrictVersion\u001b[0m\u001b[0;34m(\u001b[0m\u001b[0m__version__\u001b[0m\u001b[0;34m)\u001b[0m \u001b[0;34m<=\u001b[0m \u001b[0mStrictVersion\u001b[0m\u001b[0;34m(\u001b[0m\u001b[0mmax_ver\u001b[0m\u001b[0;34m)\u001b[0m\u001b[0;34m:\u001b[0m\u001b[0;34m\u001b[0m\u001b[0;34m\u001b[0m\u001b[0m\n\u001b[0m\u001b[1;32m    299\u001b[0m                 \u001b[0;32mif\u001b[0m \u001b[0mtask\u001b[0m\u001b[0;34m:\u001b[0m\u001b[0;34m\u001b[0m\u001b[0;34m\u001b[0m\u001b[0m\n",
      "\u001b[0;32m~/.conda/envs/default/lib/python3.9/site-packages/setuptools/_distutils/version.py\u001b[0m in \u001b[0;36m__init__\u001b[0;34m(self, vstring)\u001b[0m\n\u001b[1;32m     59\u001b[0m         \u001b[0;32mif\u001b[0m \u001b[0mvstring\u001b[0m\u001b[0;34m:\u001b[0m\u001b[0;34m\u001b[0m\u001b[0;34m\u001b[0m\u001b[0m\n\u001b[0;32m---> 60\u001b[0;31m             \u001b[0mself\u001b[0m\u001b[0;34m.\u001b[0m\u001b[0mparse\u001b[0m\u001b[0;34m(\u001b[0m\u001b[0mvstring\u001b[0m\u001b[0;34m)\u001b[0m\u001b[0;34m\u001b[0m\u001b[0;34m\u001b[0m\u001b[0m\n\u001b[0m\u001b[1;32m     61\u001b[0m \u001b[0;34m\u001b[0m\u001b[0m\n",
      "\u001b[0;32m~/.conda/envs/default/lib/python3.9/site-packages/setuptools/_distutils/version.py\u001b[0m in \u001b[0;36mparse\u001b[0;34m(self, vstring)\u001b[0m\n\u001b[1;32m    156\u001b[0m         \u001b[0;32mif\u001b[0m \u001b[0;32mnot\u001b[0m \u001b[0mmatch\u001b[0m\u001b[0;34m:\u001b[0m\u001b[0;34m\u001b[0m\u001b[0;34m\u001b[0m\u001b[0m\n\u001b[0;32m--> 157\u001b[0;31m             \u001b[0;32mraise\u001b[0m \u001b[0mValueError\u001b[0m\u001b[0;34m(\u001b[0m\u001b[0;34m\"invalid version number '%s'\"\u001b[0m \u001b[0;34m%\u001b[0m \u001b[0mvstring\u001b[0m\u001b[0;34m)\u001b[0m\u001b[0;34m\u001b[0m\u001b[0;34m\u001b[0m\u001b[0m\n\u001b[0m\u001b[1;32m    158\u001b[0m \u001b[0;34m\u001b[0m\u001b[0m\n",
      "\u001b[0;31mValueError\u001b[0m: invalid version number '1.16.6.1'",
      "\nDuring handling of the above exception, another exception occurred:\n",
      "\u001b[0;31mSystemExit\u001b[0m                                Traceback (most recent call last)",
      "    \u001b[0;31m[... skipping hidden 1 frame]\u001b[0m\n",
      "\u001b[0;32m/tmp/ipykernel_261/1295291009.py\u001b[0m in \u001b[0;36m<module>\u001b[0;34m\u001b[0m\n\u001b[0;32m----> 1\u001b[0;31m \u001b[0mcheckpoint_map\u001b[0m \u001b[0;34m=\u001b[0m \u001b[0mavailable_checkpoints\u001b[0m\u001b[0;34m(\u001b[0m\u001b[0;34m)\u001b[0m\u001b[0;34m\u001b[0m\u001b[0;34m\u001b[0m\u001b[0m\n\u001b[0m",
      "\u001b[0;32m~/.conda/envs/default/lib/python3.9/site-packages/pyabsa/functional/checkpoint/checkpoint_manager.py\u001b[0m in \u001b[0;36mavailable_checkpoints\u001b[0;34m(task)\u001b[0m\n\u001b[1;32m    318\u001b[0m             '[2]\\tBaidu NetDisk\\t: https://pan.baidu.com/s/1dvGqmnGG2T7MYm0VC9jWTg (Access Code: absa)\\n')\n\u001b[0;32m--> 319\u001b[0;31m         \u001b[0msys\u001b[0m\u001b[0;34m.\u001b[0m\u001b[0mexit\u001b[0m\u001b[0;34m(\u001b[0m\u001b[0;34m-\u001b[0m\u001b[0;36m1\u001b[0m\u001b[0;34m)\u001b[0m\u001b[0;34m\u001b[0m\u001b[0;34m\u001b[0m\u001b[0m\n\u001b[0m\u001b[1;32m    320\u001b[0m \u001b[0;34m\u001b[0m\u001b[0m\n",
      "\u001b[0;31mSystemExit\u001b[0m: -1",
      "\nDuring handling of the above exception, another exception occurred:\n",
      "\u001b[0;31mTypeError\u001b[0m                                 Traceback (most recent call last)",
      "    \u001b[0;31m[... skipping hidden 1 frame]\u001b[0m\n",
      "\u001b[0;32m~/.conda/envs/default/lib/python3.9/site-packages/IPython/core/interactiveshell.py\u001b[0m in \u001b[0;36mshowtraceback\u001b[0;34m(self, exc_tuple, filename, tb_offset, exception_only, running_compiled_code)\u001b[0m\n\u001b[1;32m   2068\u001b[0m                     stb = ['An exception has occurred, use %tb to see '\n\u001b[1;32m   2069\u001b[0m                            'the full traceback.\\n']\n\u001b[0;32m-> 2070\u001b[0;31m                     stb.extend(self.InteractiveTB.get_exception_only(etype,\n\u001b[0m\u001b[1;32m   2071\u001b[0m                                                                      value))\n\u001b[1;32m   2072\u001b[0m                 \u001b[0;32melse\u001b[0m\u001b[0;34m:\u001b[0m\u001b[0;34m\u001b[0m\u001b[0;34m\u001b[0m\u001b[0m\n",
      "\u001b[0;32m~/.conda/envs/default/lib/python3.9/site-packages/IPython/core/ultratb.py\u001b[0m in \u001b[0;36mget_exception_only\u001b[0;34m(self, etype, value)\u001b[0m\n\u001b[1;32m    752\u001b[0m         \u001b[0mvalue\u001b[0m \u001b[0;34m:\u001b[0m \u001b[0mexception\u001b[0m \u001b[0mvalue\u001b[0m\u001b[0;34m\u001b[0m\u001b[0;34m\u001b[0m\u001b[0m\n\u001b[1;32m    753\u001b[0m         \"\"\"\n\u001b[0;32m--> 754\u001b[0;31m         \u001b[0;32mreturn\u001b[0m \u001b[0mListTB\u001b[0m\u001b[0;34m.\u001b[0m\u001b[0mstructured_traceback\u001b[0m\u001b[0;34m(\u001b[0m\u001b[0mself\u001b[0m\u001b[0;34m,\u001b[0m \u001b[0metype\u001b[0m\u001b[0;34m,\u001b[0m \u001b[0mvalue\u001b[0m\u001b[0;34m)\u001b[0m\u001b[0;34m\u001b[0m\u001b[0;34m\u001b[0m\u001b[0m\n\u001b[0m\u001b[1;32m    755\u001b[0m \u001b[0;34m\u001b[0m\u001b[0m\n\u001b[1;32m    756\u001b[0m     \u001b[0;32mdef\u001b[0m \u001b[0mshow_exception_only\u001b[0m\u001b[0;34m(\u001b[0m\u001b[0mself\u001b[0m\u001b[0;34m,\u001b[0m \u001b[0metype\u001b[0m\u001b[0;34m,\u001b[0m \u001b[0mevalue\u001b[0m\u001b[0;34m)\u001b[0m\u001b[0;34m:\u001b[0m\u001b[0;34m\u001b[0m\u001b[0;34m\u001b[0m\u001b[0m\n",
      "\u001b[0;32m~/.conda/envs/default/lib/python3.9/site-packages/IPython/core/ultratb.py\u001b[0m in \u001b[0;36mstructured_traceback\u001b[0;34m(self, etype, evalue, etb, tb_offset, context)\u001b[0m\n\u001b[1;32m    627\u001b[0m             \u001b[0mchained_exceptions_tb_offset\u001b[0m \u001b[0;34m=\u001b[0m \u001b[0;36m0\u001b[0m\u001b[0;34m\u001b[0m\u001b[0;34m\u001b[0m\u001b[0m\n\u001b[1;32m    628\u001b[0m             out_list = (\n\u001b[0;32m--> 629\u001b[0;31m                 self.structured_traceback(\n\u001b[0m\u001b[1;32m    630\u001b[0m                     \u001b[0metype\u001b[0m\u001b[0;34m,\u001b[0m \u001b[0mevalue\u001b[0m\u001b[0;34m,\u001b[0m \u001b[0;34m(\u001b[0m\u001b[0metb\u001b[0m\u001b[0;34m,\u001b[0m \u001b[0mchained_exc_ids\u001b[0m\u001b[0;34m)\u001b[0m\u001b[0;34m,\u001b[0m\u001b[0;34m\u001b[0m\u001b[0;34m\u001b[0m\u001b[0m\n\u001b[1;32m    631\u001b[0m                     chained_exceptions_tb_offset, context)\n",
      "\u001b[0;32m~/.conda/envs/default/lib/python3.9/site-packages/IPython/core/ultratb.py\u001b[0m in \u001b[0;36mstructured_traceback\u001b[0;34m(self, etype, value, tb, tb_offset, number_of_lines_of_context)\u001b[0m\n\u001b[1;32m   1365\u001b[0m         \u001b[0;32melse\u001b[0m\u001b[0;34m:\u001b[0m\u001b[0;34m\u001b[0m\u001b[0;34m\u001b[0m\u001b[0m\n\u001b[1;32m   1366\u001b[0m             \u001b[0mself\u001b[0m\u001b[0;34m.\u001b[0m\u001b[0mtb\u001b[0m \u001b[0;34m=\u001b[0m \u001b[0mtb\u001b[0m\u001b[0;34m\u001b[0m\u001b[0;34m\u001b[0m\u001b[0m\n\u001b[0;32m-> 1367\u001b[0;31m         return FormattedTB.structured_traceback(\n\u001b[0m\u001b[1;32m   1368\u001b[0m             self, etype, value, tb, tb_offset, number_of_lines_of_context)\n\u001b[1;32m   1369\u001b[0m \u001b[0;34m\u001b[0m\u001b[0m\n",
      "\u001b[0;32m~/.conda/envs/default/lib/python3.9/site-packages/IPython/core/ultratb.py\u001b[0m in \u001b[0;36mstructured_traceback\u001b[0;34m(self, etype, value, tb, tb_offset, number_of_lines_of_context)\u001b[0m\n\u001b[1;32m   1265\u001b[0m         \u001b[0;32mif\u001b[0m \u001b[0mmode\u001b[0m \u001b[0;32min\u001b[0m \u001b[0mself\u001b[0m\u001b[0;34m.\u001b[0m\u001b[0mverbose_modes\u001b[0m\u001b[0;34m:\u001b[0m\u001b[0;34m\u001b[0m\u001b[0;34m\u001b[0m\u001b[0m\n\u001b[1;32m   1266\u001b[0m             \u001b[0;31m# Verbose modes need a full traceback\u001b[0m\u001b[0;34m\u001b[0m\u001b[0;34m\u001b[0m\u001b[0m\n\u001b[0;32m-> 1267\u001b[0;31m             return VerboseTB.structured_traceback(\n\u001b[0m\u001b[1;32m   1268\u001b[0m                 \u001b[0mself\u001b[0m\u001b[0;34m,\u001b[0m \u001b[0metype\u001b[0m\u001b[0;34m,\u001b[0m \u001b[0mvalue\u001b[0m\u001b[0;34m,\u001b[0m \u001b[0mtb\u001b[0m\u001b[0;34m,\u001b[0m \u001b[0mtb_offset\u001b[0m\u001b[0;34m,\u001b[0m \u001b[0mnumber_of_lines_of_context\u001b[0m\u001b[0;34m\u001b[0m\u001b[0;34m\u001b[0m\u001b[0m\n\u001b[1;32m   1269\u001b[0m             )\n",
      "\u001b[0;32m~/.conda/envs/default/lib/python3.9/site-packages/IPython/core/ultratb.py\u001b[0m in \u001b[0;36mstructured_traceback\u001b[0;34m(self, etype, evalue, etb, tb_offset, number_of_lines_of_context)\u001b[0m\n\u001b[1;32m   1122\u001b[0m         \u001b[0;34m\"\"\"Return a nice text document describing the traceback.\"\"\"\u001b[0m\u001b[0;34m\u001b[0m\u001b[0;34m\u001b[0m\u001b[0m\n\u001b[1;32m   1123\u001b[0m \u001b[0;34m\u001b[0m\u001b[0m\n\u001b[0;32m-> 1124\u001b[0;31m         formatted_exception = self.format_exception_as_a_whole(etype, evalue, etb, number_of_lines_of_context,\n\u001b[0m\u001b[1;32m   1125\u001b[0m                                                                tb_offset)\n\u001b[1;32m   1126\u001b[0m \u001b[0;34m\u001b[0m\u001b[0m\n",
      "\u001b[0;32m~/.conda/envs/default/lib/python3.9/site-packages/IPython/core/ultratb.py\u001b[0m in \u001b[0;36mformat_exception_as_a_whole\u001b[0;34m(self, etype, evalue, etb, number_of_lines_of_context, tb_offset)\u001b[0m\n\u001b[1;32m   1080\u001b[0m \u001b[0;34m\u001b[0m\u001b[0m\n\u001b[1;32m   1081\u001b[0m \u001b[0;34m\u001b[0m\u001b[0m\n\u001b[0;32m-> 1082\u001b[0;31m         \u001b[0mlast_unique\u001b[0m\u001b[0;34m,\u001b[0m \u001b[0mrecursion_repeat\u001b[0m \u001b[0;34m=\u001b[0m \u001b[0mfind_recursion\u001b[0m\u001b[0;34m(\u001b[0m\u001b[0morig_etype\u001b[0m\u001b[0;34m,\u001b[0m \u001b[0mevalue\u001b[0m\u001b[0;34m,\u001b[0m \u001b[0mrecords\u001b[0m\u001b[0;34m)\u001b[0m\u001b[0;34m\u001b[0m\u001b[0;34m\u001b[0m\u001b[0m\n\u001b[0m\u001b[1;32m   1083\u001b[0m \u001b[0;34m\u001b[0m\u001b[0m\n\u001b[1;32m   1084\u001b[0m         \u001b[0mframes\u001b[0m \u001b[0;34m=\u001b[0m \u001b[0mself\u001b[0m\u001b[0;34m.\u001b[0m\u001b[0mformat_records\u001b[0m\u001b[0;34m(\u001b[0m\u001b[0mrecords\u001b[0m\u001b[0;34m,\u001b[0m \u001b[0mlast_unique\u001b[0m\u001b[0;34m,\u001b[0m \u001b[0mrecursion_repeat\u001b[0m\u001b[0;34m)\u001b[0m\u001b[0;34m\u001b[0m\u001b[0;34m\u001b[0m\u001b[0m\n",
      "\u001b[0;32m~/.conda/envs/default/lib/python3.9/site-packages/IPython/core/ultratb.py\u001b[0m in \u001b[0;36mfind_recursion\u001b[0;34m(etype, value, records)\u001b[0m\n\u001b[1;32m    380\u001b[0m     \u001b[0;31m# first frame (from in to out) that looks different.\u001b[0m\u001b[0;34m\u001b[0m\u001b[0;34m\u001b[0m\u001b[0m\n\u001b[1;32m    381\u001b[0m     \u001b[0;32mif\u001b[0m \u001b[0;32mnot\u001b[0m \u001b[0mis_recursion_error\u001b[0m\u001b[0;34m(\u001b[0m\u001b[0metype\u001b[0m\u001b[0;34m,\u001b[0m \u001b[0mvalue\u001b[0m\u001b[0;34m,\u001b[0m \u001b[0mrecords\u001b[0m\u001b[0;34m)\u001b[0m\u001b[0;34m:\u001b[0m\u001b[0;34m\u001b[0m\u001b[0;34m\u001b[0m\u001b[0m\n\u001b[0;32m--> 382\u001b[0;31m         \u001b[0;32mreturn\u001b[0m \u001b[0mlen\u001b[0m\u001b[0;34m(\u001b[0m\u001b[0mrecords\u001b[0m\u001b[0;34m)\u001b[0m\u001b[0;34m,\u001b[0m \u001b[0;36m0\u001b[0m\u001b[0;34m\u001b[0m\u001b[0;34m\u001b[0m\u001b[0m\n\u001b[0m\u001b[1;32m    383\u001b[0m \u001b[0;34m\u001b[0m\u001b[0m\n\u001b[1;32m    384\u001b[0m     \u001b[0;31m# Select filename, lineno, func_name to track frames with\u001b[0m\u001b[0;34m\u001b[0m\u001b[0;34m\u001b[0m\u001b[0m\n",
      "\u001b[0;31mTypeError\u001b[0m: object of type 'NoneType' has no len()"
     ]
    }
   ],
   "source": [
    "checkpoint_map = available_checkpoints()"
   ]
  },
  {
   "cell_type": "code",
   "execution_count": 2,
   "id": "c2d72b1a-3d41-427a-b6e0-fc8289095b88",
   "metadata": {},
   "outputs": [
    {
     "name": "stdout",
     "output_type": "stream",
     "text": [
      "Load aspect extractor from checkpoints/ATEPC_ENGLISH_CHECKPOINT\n",
      "config: checkpoints/ATEPC_ENGLISH_CHECKPOINT/fast_lcf_atepc.config\n",
      "state_dict: checkpoints/ATEPC_ENGLISH_CHECKPOINT/fast_lcf_atepc.state_dict\n",
      "model: None\n",
      "tokenizer: checkpoints/ATEPC_ENGLISH_CHECKPOINT/fast_lcf_atepc.tokenizer\n"
     ]
    },
    {
     "name": "stderr",
     "output_type": "stream",
     "text": [
      "Some weights of the model checkpoint at microsoft/deberta-v3-base were not used when initializing DebertaV2Model: ['mask_predictions.dense.weight', 'lm_predictions.lm_head.LayerNorm.bias', 'mask_predictions.LayerNorm.bias', 'mask_predictions.classifier.bias', 'mask_predictions.LayerNorm.weight', 'mask_predictions.classifier.weight', 'lm_predictions.lm_head.LayerNorm.weight', 'mask_predictions.dense.bias', 'lm_predictions.lm_head.dense.weight', 'lm_predictions.lm_head.bias', 'lm_predictions.lm_head.dense.bias']\n",
      "- This IS expected if you are initializing DebertaV2Model from the checkpoint of a model trained on another task or with another architecture (e.g. initializing a BertForSequenceClassification model from a BertForPreTraining model).\n",
      "- This IS NOT expected if you are initializing DebertaV2Model from the checkpoint of a model that you expect to be exactly identical (initializing a BertForSequenceClassification model from a BertForSequenceClassification model).\n",
      "Special tokens have been added in the vocabulary, make sure the associated word embeddings are fine-tuned or trained.\n",
      "/home/studio-lab-user/.conda/envs/default/lib/python3.9/site-packages/transformers/convert_slow_tokenizer.py:434: UserWarning: The sentencepiece tokenizer that you are converting to a fast tokenizer uses the byte fallback option which is not implemented in the fast tokenizers. In practice this means that the fast version of the tokenizer can produce unknown tokens whereas the sentencepiece version would have converted these unknown tokens into a sequence of byte tokens matching the original piece of text.\n",
      "  warnings.warn(\n",
      "Special tokens have been added in the vocabulary, make sure the associated word embeddings are fine-tuned or trained.\n"
     ]
    },
    {
     "name": "stdout",
     "output_type": "stream",
     "text": [
      "Config used in Training:\n",
      "ABSADatasetsVersion:None\t-->\tCalling Count:0\n",
      "IOB_label_to_index:{'B-ASP': 1, 'I-ASP': 2, 'O': 3, '[CLS]': 4, '[SEP]': 5}\t-->\tCalling Count:1\n",
      "MV:<metric_visualizer.metric_visualizer.MetricVisualizer object at 0x7f42304a9d60>\t-->\tCalling Count:0\n",
      "PyABSAVersion:1.15.7\t-->\tCalling Count:0\n",
      "SRD:3\t-->\tCalling Count:79070\n",
      "TorchVersion:1.10.0+cuda11.3\t-->\tCalling Count:0\n",
      "TransformersVersion:4.20.1\t-->\tCalling Count:0\n",
      "auto_device:True\t-->\tCalling Count:50569\n",
      "batch_size:16\t-->\tCalling Count:5\n",
      "cache_dataset:True\t-->\tCalling Count:1\n",
      "dataset_file:{'train': ['integrated_datasets/atepc_datasets/110.SemEval/113.laptop14/Laptops_Train.xml.seg.atepc', 'integrated_datasets/atepc_datasets/110.SemEval/114.restaurant14/Restaurants_Train.xml.seg.atepc', 'integrated_datasets/atepc_datasets/110.SemEval/116.restaurant16/restaurant_train.raw.atepc', 'integrated_datasets/atepc_datasets/101.ACL_Twitter/acl-14-short-data/train.raw.atepc', 'integrated_datasets/atepc_datasets/109.MAMS/train.xml.dat.atepc', 'integrated_datasets/atepc_datasets/117.Television/Television_Train.xml.seg.atepc', 'integrated_datasets/atepc_datasets/118.TShirt/Menstshirt_Train.xml.seg.atepc', 'integrated_datasets/atepc_datasets/119.Yelp/yelp.train.txt.atepc', 'integrated_datasets/atepc_datasets/121.MOOC_En/mooc-en.train.txt.atepc'], 'test': ['integrated_datasets/atepc_datasets/110.SemEval/113.laptop14/Laptops_Test_Gold.xml.seg.atepc', 'integrated_datasets/atepc_datasets/110.SemEval/114.restaurant14/Restaurants_Test_Gold.xml.seg.atepc', 'integrated_datasets/atepc_datasets/110.SemEval/116.restaurant16/restaurant_test.raw.atepc', 'integrated_datasets/atepc_datasets/101.ACL_Twitter/acl-14-short-data/test.raw.atepc', 'integrated_datasets/atepc_datasets/109.MAMS/test.xml.dat.atepc', 'integrated_datasets/atepc_datasets/117.Television/Television_Test_Gold.xml.seg.atepc', 'integrated_datasets/atepc_datasets/118.TShirt/Menstshirt_Test_Gold.xml.seg.atepc', 'integrated_datasets/atepc_datasets/119.Yelp/yelp.test.txt.atepc', 'integrated_datasets/atepc_datasets/121.MOOC_En/mooc-en.test.txt.atepc'], 'valid': ['integrated_datasets/atepc_datasets/109.MAMS/valid.xml.dat.atepc']}\t-->\tCalling Count:54\n",
      "dataset_name:English\t-->\tCalling Count:21\n",
      "device:cpu\t-->\tCalling Count:635061\n",
      "device_name:NVIDIA GeForce RTX 3090\t-->\tCalling Count:0\n",
      "dropout:0.5\t-->\tCalling Count:2\n",
      "dynamic_truncate:True\t-->\tCalling Count:79070\n",
      "embed_dim:768\t-->\tCalling Count:0\n",
      "evaluate_begin:0\t-->\tCalling Count:50\n",
      "gradient_accumulation_steps:1\t-->\tCalling Count:3\n",
      "hidden_dim:768\t-->\tCalling Count:12\n",
      "index_to_IOB_label:{1: 'B-ASP', 2: 'I-ASP', 3: 'O', 4: '[CLS]', 5: '[SEP]'}\t-->\tCalling Count:0\n",
      "index_to_label:{0: 'Negative', 1: 'Neutral', 2: 'Positive'}\t-->\tCalling Count:2\n",
      "initializer:xavier_uniform_\t-->\tCalling Count:0\n",
      "l2reg:1e-84\t-->\tCalling Count:2\n",
      "label_list:['B-ASP', 'I-ASP', 'O', '[CLS]', '[SEP]']\t-->\tCalling Count:8101957\n",
      "label_to_index:{'Negative': 0, 'Neutral': 1, 'Positive': 2}\t-->\tCalling Count:0\n",
      "lcf:cdw\t-->\tCalling Count:141137\n",
      "learning_rate:1e-05\t-->\tCalling Count:1\n",
      "log_step:2064\t-->\tCalling Count:50570\n",
      "max_seq_len:80\t-->\tCalling Count:417867\n",
      "max_test_metrics:{'max_apc_test_acc': 85.4, 'max_apc_test_f1': 82.79, 'max_ate_test_f1': 81.4}\t-->\tCalling Count:357\n",
      "metrics_of_this_checkpoint:{'apc_acc': 85.4, 'apc_f1': 82.53, 'ate_f1': 80.19}\t-->\tCalling Count:147\n",
      "model:<class 'pyabsa.core.atepc.models.fast_lcf_atepc.FAST_LCF_ATEPC'>\t-->\tCalling Count:6\n",
      "model_name:fast_lcf_atepc\t-->\tCalling Count:39621\n",
      "model_path_to_save:checkpoints\t-->\tCalling Count:37\n",
      "num_epoch:30\t-->\tCalling Count:2\n",
      "num_labels:6\t-->\tCalling Count:6\n",
      "optimizer:adamw\t-->\tCalling Count:2\n",
      "patience:99999\t-->\tCalling Count:18\n",
      "polarities_dim:3\t-->\tCalling Count:51\n",
      "pretrained_bert:microsoft/deberta-v3-base\t-->\tCalling Count:7\n",
      "save_mode:1\t-->\tCalling Count:33\n",
      "seed:52\t-->\tCalling Count:7\n",
      "sep_indices:2\t-->\tCalling Count:1128227\n",
      "show_metric:False\t-->\tCalling Count:0\n",
      "spacy_model:en_core_web_sm\t-->\tCalling Count:3\n",
      "srd_alignment:True\t-->\tCalling Count:0\n",
      "use_bert_spc:True\t-->\tCalling Count:90552\n",
      "use_syntax_based_SRD:False\t-->\tCalling Count:39535\n",
      "warmup_step:-1\t-->\tCalling Count:50569\n",
      "window:lr\t-->\tCalling Count:0\n"
     ]
    }
   ],
   "source": [
    "# Use pretrained model\n",
    "aspect_extractor = ATEPCCheckpointManager.get_aspect_extractor(checkpoint='english', auto_device=False); # False means load model on CPU"
   ]
  },
  {
   "cell_type": "markdown",
   "id": "208b312e-5a46-4a8e-aba0-19c67f65252d",
   "metadata": {},
   "source": [
    "---"
   ]
  },
  {
   "cell_type": "code",
   "execution_count": 3,
   "id": "b782d542-d7b9-412d-8053-310d649e0123",
   "metadata": {},
   "outputs": [],
   "source": [
    "import pandas as pd;\n",
    "\n",
    "restaurants_reviews = pd.read_parquet('restaurants_reviews');\n",
    "users_reviews = pd.read_parquet('users_reviews');"
   ]
  },
  {
   "cell_type": "code",
   "execution_count": 4,
   "id": "4eb24b02-1d89-4adc-80ff-2220d84cfc35",
   "metadata": {},
   "outputs": [],
   "source": [
    "restaurants_reviews.reset_index(drop=True, inplace=True);\n",
    "users_reviews.reset_index(drop=True, inplace=True);"
   ]
  },
  {
   "cell_type": "code",
   "execution_count": 7,
   "id": "52259fe5-d604-42b9-a5ab-1da6d0b90742",
   "metadata": {},
   "outputs": [],
   "source": [
    "restaurants_reviews_text = restaurants_reviews['text'];\n",
    "users_reviews_text = users_reviews['text'];"
   ]
  },
  {
   "cell_type": "code",
   "execution_count": 5,
   "id": "1be2a502-2e0a-46c3-83a7-465a1534732d",
   "metadata": {},
   "outputs": [
    {
     "data": {
      "text/plain": [
       "'banana'"
      ]
     },
     "execution_count": 5,
     "metadata": {},
     "output_type": "execute_result"
    }
   ],
   "source": [
    "from nltk.stem.wordnet import WordNetLemmatizer;\n",
    "lemma = WordNetLemmatizer();"
   ]
  },
  {
   "cell_type": "code",
   "execution_count": 9,
   "id": "87d7280b-1d74-4513-8fe4-f4ffc385c56b",
   "metadata": {},
   "outputs": [],
   "source": [
    "lemma = WordNetLemmatizer();\n",
    "\n",
    "def preprocess(review):\n",
    "    sentences = [sentence.strip().lower() for sentence in review.replace('\\n', '').split('.')]; # remove next-line and split by '.'\n",
    "    sentences_handled = [];\n",
    "    for i, sentence in enumerate(sentences):\n",
    "        tokens = [lemma.lemmatize(token) for token in sentence.split(' ') if token];\n",
    "        if len(tokens) > 0:\n",
    "            sentences_handled.append(' '.join(tokens));\n",
    "    return sentences_handled;"
   ]
  },
  {
   "cell_type": "code",
   "execution_count": 10,
   "id": "66d0a131-c1a8-47b5-b8a2-13bc3bbcc3bc",
   "metadata": {},
   "outputs": [],
   "source": [
    "restaurants_reviews_sentences = restaurants_reviews_text.apply(preprocess);\n",
    "users_reviews_sentences = users_reviews_text.apply(preprocess);"
   ]
  },
  {
   "cell_type": "code",
   "execution_count": 34,
   "id": "e629ca3e-deb4-4b8d-bf02-29a3d2f1f7a2",
   "metadata": {},
   "outputs": [],
   "source": [
    "from IPython.display import clear_output as clear\n",
    "count = 0;\n",
    "length = restaurants_reviews_sentences.shape[0];\n",
    "\n",
    "def inference(sentences):\n",
    "    global count;\n",
    "    if count % 5 == 0:\n",
    "        clear();\n",
    "        print('Process:', f'{count}/{length}');\n",
    "    count += 1;\n",
    "    result = aspect_extractor.extract_aspect(inference_source=sentences, save_result=False, print_result=False, pred_sentiment=True)\n",
    "    return list(map(lambda item: {'aspect': item['aspect'], 'sentiment': item['sentiment']}, result));"
   ]
  },
  {
   "cell_type": "code",
   "execution_count": null,
   "id": "7d0ce0af-bd2d-43fc-9eff-dfb771de2780",
   "metadata": {},
   "outputs": [
    {
     "name": "stdout",
     "output_type": "stream",
     "text": [
      "Process: 1995/2000\n"
     ]
    }
   ],
   "source": [
    "restaurants_aspects_with_polarities = restaurants_reviews_sentences.apply(inference);"
   ]
  },
  {
   "cell_type": "code",
   "execution_count": 38,
   "id": "b685786f-3a7c-4d3a-924c-f184634c5bdc",
   "metadata": {},
   "outputs": [],
   "source": [
    "restaurants_reviews['aspect_polarity'] = restaurants_aspects_with_polarities;"
   ]
  },
  {
   "cell_type": "code",
   "execution_count": 40,
   "id": "59849367-760a-43a8-8c43-651e95bd4846",
   "metadata": {},
   "outputs": [],
   "source": [
    "restaurants_reviews.to_parquet('restaurants_reviews_with_aspects_polarities')"
   ]
  },
  {
   "cell_type": "code",
   "execution_count": null,
   "id": "dc510b3f-01dd-4972-8a24-8675db23c0eb",
   "metadata": {},
   "outputs": [
    {
     "name": "stdout",
     "output_type": "stream",
     "text": [
      "Process: 1425/1430\n"
     ]
    }
   ],
   "source": [
    "count = 0;\n",
    "length = users_reviews_sentences.shape[0];\n",
    "users_aspects_with_polarities = users_reviews_sentences.apply(inference);"
   ]
  },
  {
   "cell_type": "code",
   "execution_count": 47,
   "id": "91f436f6-38ba-4fa6-acaa-188f4ea7bd86",
   "metadata": {},
   "outputs": [],
   "source": [
    "users_reviews['aspect_polarity'] = users_aspects_with_polarities;"
   ]
  },
  {
   "cell_type": "code",
   "execution_count": 49,
   "id": "1f27bc55-eef8-4e9f-994c-d067ab26d2b7",
   "metadata": {},
   "outputs": [],
   "source": [
    "users_reviews.to_parquet('users_reviews_with_aspects_polarities')"
   ]
  },
  {
   "cell_type": "code",
   "execution_count": null,
   "id": "73e3d5e2-fc49-4f9d-b243-74786c89d897",
   "metadata": {},
   "outputs": [],
   "source": []
  }
 ],
 "metadata": {
  "kernelspec": {
   "display_name": "default:Python",
   "language": "python",
   "name": "conda-env-default-py"
  },
  "language_info": {
   "codemirror_mode": {
    "name": "ipython",
    "version": 3
   },
   "file_extension": ".py",
   "mimetype": "text/x-python",
   "name": "python",
   "nbconvert_exporter": "python",
   "pygments_lexer": "ipython3",
   "version": "3.9.10"
  }
 },
 "nbformat": 4,
 "nbformat_minor": 5
}
