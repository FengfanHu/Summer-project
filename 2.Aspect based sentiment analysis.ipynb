{
 "cells": [
  {
   "cell_type": "code",
   "execution_count": 1,
   "id": "ee043a36-edfc-4f93-b58b-af54c176fec9",
   "metadata": {},
   "outputs": [
    {
     "name": "stdout",
     "output_type": "stream",
     "text": [
      "Version 1.7.9.7 of findfile is outdated. Version 1.7.9.8 was released Friday July 22, 2022.\n",
      "This script could only be used to manage NVIDIA GPUs,but no GPU found in your device\n"
     ]
    },
    {
     "name": "stderr",
     "output_type": "stream",
     "text": [
      "2022-08-16 17:58:59.035223: W tensorflow/stream_executor/platform/default/dso_loader.cc:64] Could not load dynamic library 'libcudart.so.11.0'; dlerror: libcudart.so.11.0: cannot open shared object file: No such file or directory\n",
      "2022-08-16 17:58:59.035258: I tensorflow/stream_executor/cuda/cudart_stub.cc:29] Ignore above cudart dlerror if you do not have a GPU set up on your machine.\n",
      "/home/studio-lab-user/.conda/envs/default/lib/python3.9/site-packages/keras/utils/image_utils.py:36: DeprecationWarning: NEAREST is deprecated and will be removed in Pillow 10 (2023-07-01). Use Resampling.NEAREST or Dither.NONE instead.\n",
      "  'nearest': pil_image.NEAREST,\n",
      "/home/studio-lab-user/.conda/envs/default/lib/python3.9/site-packages/keras/utils/image_utils.py:37: DeprecationWarning: BILINEAR is deprecated and will be removed in Pillow 10 (2023-07-01). Use Resampling.BILINEAR instead.\n",
      "  'bilinear': pil_image.BILINEAR,\n",
      "/home/studio-lab-user/.conda/envs/default/lib/python3.9/site-packages/keras/utils/image_utils.py:38: DeprecationWarning: BICUBIC is deprecated and will be removed in Pillow 10 (2023-07-01). Use Resampling.BICUBIC instead.\n",
      "  'bicubic': pil_image.BICUBIC,\n",
      "/home/studio-lab-user/.conda/envs/default/lib/python3.9/site-packages/keras/utils/image_utils.py:39: DeprecationWarning: HAMMING is deprecated and will be removed in Pillow 10 (2023-07-01). Use Resampling.HAMMING instead.\n",
      "  'hamming': pil_image.HAMMING,\n",
      "/home/studio-lab-user/.conda/envs/default/lib/python3.9/site-packages/keras/utils/image_utils.py:40: DeprecationWarning: BOX is deprecated and will be removed in Pillow 10 (2023-07-01). Use Resampling.BOX instead.\n",
      "  'box': pil_image.BOX,\n",
      "/home/studio-lab-user/.conda/envs/default/lib/python3.9/site-packages/keras/utils/image_utils.py:41: DeprecationWarning: LANCZOS is deprecated and will be removed in Pillow 10 (2023-07-01). Use Resampling.LANCZOS instead.\n",
      "  'lanczos': pil_image.LANCZOS,\n",
      "2022-08-16 17:59:04.577109: W tensorflow/stream_executor/platform/default/dso_loader.cc:64] Could not load dynamic library 'libcuda.so.1'; dlerror: libcuda.so.1: cannot open shared object file: No such file or directory\n",
      "2022-08-16 17:59:04.577141: W tensorflow/stream_executor/cuda/cuda_driver.cc:269] failed call to cuInit: UNKNOWN ERROR (303)\n",
      "2022-08-16 17:59:04.577166: I tensorflow/stream_executor/cuda/cuda_diagnostics.cc:156] kernel driver does not appear to be running on this host (default): /proc/driver/nvidia/version does not exist\n"
     ]
    },
    {
     "name": "stdout",
     "output_type": "stream",
     "text": [
      "Version 0.4.32 of metric_visualizer is outdated. Version 0.5.3 was released 1 day ago.\n",
      "Remote ABSADataset version: 2022.07.22 Local ABSADatasets version: 2022.07.22\n",
      "Version 1.16.7 of pyabsa is outdated. Version 1.16.9 was released 8 hours ago.\n",
      "\u001b[31mcheck release notes at https://github.com/yangheng95/PyABSA/blob/release/release-note.json\u001b[0m\n"
     ]
    }
   ],
   "source": [
    "from pyabsa import ABSADatasetList, available_checkpoints\n",
    "from pyabsa import ATEPCCheckpointManager"
   ]
  },
  {
   "cell_type": "code",
   "execution_count": 2,
   "id": "c2d72b1a-3d41-427a-b6e0-fc8289095b88",
   "metadata": {},
   "outputs": [
    {
     "name": "stdout",
     "output_type": "stream",
     "text": [
      "Load aspect extractor from checkpoints/ATEPC_ENGLISH_CHECKPOINT\n",
      "config: checkpoints/ATEPC_ENGLISH_CHECKPOINT/fast_lcf_atepc.config\n",
      "state_dict: checkpoints/ATEPC_ENGLISH_CHECKPOINT/fast_lcf_atepc.state_dict\n",
      "model: None\n",
      "tokenizer: checkpoints/ATEPC_ENGLISH_CHECKPOINT/fast_lcf_atepc.tokenizer\n"
     ]
    },
    {
     "name": "stderr",
     "output_type": "stream",
     "text": [
      "Some weights of the model checkpoint at microsoft/deberta-v3-base were not used when initializing DebertaV2Model: ['lm_predictions.lm_head.dense.weight', 'mask_predictions.LayerNorm.bias', 'lm_predictions.lm_head.LayerNorm.weight', 'mask_predictions.LayerNorm.weight', 'lm_predictions.lm_head.LayerNorm.bias', 'mask_predictions.dense.weight', 'lm_predictions.lm_head.bias', 'lm_predictions.lm_head.dense.bias', 'mask_predictions.classifier.weight', 'mask_predictions.classifier.bias', 'mask_predictions.dense.bias']\n",
      "- This IS expected if you are initializing DebertaV2Model from the checkpoint of a model trained on another task or with another architecture (e.g. initializing a BertForSequenceClassification model from a BertForPreTraining model).\n",
      "- This IS NOT expected if you are initializing DebertaV2Model from the checkpoint of a model that you expect to be exactly identical (initializing a BertForSequenceClassification model from a BertForSequenceClassification model).\n",
      "Special tokens have been added in the vocabulary, make sure the associated word embeddings are fine-tuned or trained.\n",
      "/home/studio-lab-user/.conda/envs/default/lib/python3.9/site-packages/transformers/convert_slow_tokenizer.py:434: UserWarning: The sentencepiece tokenizer that you are converting to a fast tokenizer uses the byte fallback option which is not implemented in the fast tokenizers. In practice this means that the fast version of the tokenizer can produce unknown tokens whereas the sentencepiece version would have converted these unknown tokens into a sequence of byte tokens matching the original piece of text.\n",
      "  warnings.warn(\n",
      "Special tokens have been added in the vocabulary, make sure the associated word embeddings are fine-tuned or trained.\n"
     ]
    },
    {
     "name": "stdout",
     "output_type": "stream",
     "text": [
      "Config used in Training:\n",
      "ABSADatasetsVersion:None\t-->\tCalling Count:0\n",
      "IOB_label_to_index:{'B-ASP': 1, 'I-ASP': 2, 'O': 3, '[CLS]': 4, '[SEP]': 5}\t-->\tCalling Count:1\n",
      "MV:<metric_visualizer.metric_visualizer.MetricVisualizer object at 0x7f78046c4910>\t-->\tCalling Count:0\n",
      "PyABSAVersion:1.15.7\t-->\tCalling Count:0\n",
      "SRD:3\t-->\tCalling Count:79070\n",
      "TorchVersion:1.10.0+cuda11.3\t-->\tCalling Count:0\n",
      "TransformersVersion:4.20.1\t-->\tCalling Count:0\n",
      "auto_device:True\t-->\tCalling Count:50569\n",
      "batch_size:16\t-->\tCalling Count:5\n",
      "cache_dataset:True\t-->\tCalling Count:1\n",
      "dataset_file:{'train': ['integrated_datasets/atepc_datasets/110.SemEval/113.laptop14/Laptops_Train.xml.seg.atepc', 'integrated_datasets/atepc_datasets/110.SemEval/114.restaurant14/Restaurants_Train.xml.seg.atepc', 'integrated_datasets/atepc_datasets/110.SemEval/116.restaurant16/restaurant_train.raw.atepc', 'integrated_datasets/atepc_datasets/101.ACL_Twitter/acl-14-short-data/train.raw.atepc', 'integrated_datasets/atepc_datasets/109.MAMS/train.xml.dat.atepc', 'integrated_datasets/atepc_datasets/117.Television/Television_Train.xml.seg.atepc', 'integrated_datasets/atepc_datasets/118.TShirt/Menstshirt_Train.xml.seg.atepc', 'integrated_datasets/atepc_datasets/119.Yelp/yelp.train.txt.atepc', 'integrated_datasets/atepc_datasets/121.MOOC_En/mooc-en.train.txt.atepc'], 'test': ['integrated_datasets/atepc_datasets/110.SemEval/113.laptop14/Laptops_Test_Gold.xml.seg.atepc', 'integrated_datasets/atepc_datasets/110.SemEval/114.restaurant14/Restaurants_Test_Gold.xml.seg.atepc', 'integrated_datasets/atepc_datasets/110.SemEval/116.restaurant16/restaurant_test.raw.atepc', 'integrated_datasets/atepc_datasets/101.ACL_Twitter/acl-14-short-data/test.raw.atepc', 'integrated_datasets/atepc_datasets/109.MAMS/test.xml.dat.atepc', 'integrated_datasets/atepc_datasets/117.Television/Television_Test_Gold.xml.seg.atepc', 'integrated_datasets/atepc_datasets/118.TShirt/Menstshirt_Test_Gold.xml.seg.atepc', 'integrated_datasets/atepc_datasets/119.Yelp/yelp.test.txt.atepc', 'integrated_datasets/atepc_datasets/121.MOOC_En/mooc-en.test.txt.atepc'], 'valid': ['integrated_datasets/atepc_datasets/109.MAMS/valid.xml.dat.atepc']}\t-->\tCalling Count:54\n",
      "dataset_name:English\t-->\tCalling Count:21\n",
      "device:cpu\t-->\tCalling Count:635061\n",
      "device_name:NVIDIA GeForce RTX 3090\t-->\tCalling Count:0\n",
      "dropout:0.5\t-->\tCalling Count:2\n",
      "dynamic_truncate:True\t-->\tCalling Count:79070\n",
      "embed_dim:768\t-->\tCalling Count:0\n",
      "evaluate_begin:0\t-->\tCalling Count:50\n",
      "gradient_accumulation_steps:1\t-->\tCalling Count:3\n",
      "hidden_dim:768\t-->\tCalling Count:12\n",
      "index_to_IOB_label:{1: 'B-ASP', 2: 'I-ASP', 3: 'O', 4: '[CLS]', 5: '[SEP]'}\t-->\tCalling Count:0\n",
      "index_to_label:{0: 'Negative', 1: 'Neutral', 2: 'Positive'}\t-->\tCalling Count:2\n",
      "initializer:xavier_uniform_\t-->\tCalling Count:0\n",
      "l2reg:1e-84\t-->\tCalling Count:2\n",
      "label_list:['B-ASP', 'I-ASP', 'O', '[CLS]', '[SEP]']\t-->\tCalling Count:8101957\n",
      "label_to_index:{'Negative': 0, 'Neutral': 1, 'Positive': 2}\t-->\tCalling Count:0\n",
      "lcf:cdw\t-->\tCalling Count:141137\n",
      "learning_rate:1e-05\t-->\tCalling Count:1\n",
      "log_step:2064\t-->\tCalling Count:50570\n",
      "max_seq_len:80\t-->\tCalling Count:417867\n",
      "max_test_metrics:{'max_apc_test_acc': 85.4, 'max_apc_test_f1': 82.79, 'max_ate_test_f1': 81.4}\t-->\tCalling Count:357\n",
      "metrics_of_this_checkpoint:{'apc_acc': 85.4, 'apc_f1': 82.53, 'ate_f1': 80.19}\t-->\tCalling Count:147\n",
      "model:<class 'pyabsa.core.atepc.models.fast_lcf_atepc.FAST_LCF_ATEPC'>\t-->\tCalling Count:6\n",
      "model_name:fast_lcf_atepc\t-->\tCalling Count:39621\n",
      "model_path_to_save:checkpoints\t-->\tCalling Count:37\n",
      "num_epoch:30\t-->\tCalling Count:2\n",
      "num_labels:6\t-->\tCalling Count:6\n",
      "optimizer:adamw\t-->\tCalling Count:2\n",
      "patience:99999\t-->\tCalling Count:18\n",
      "polarities_dim:3\t-->\tCalling Count:51\n",
      "pretrained_bert:microsoft/deberta-v3-base\t-->\tCalling Count:7\n",
      "save_mode:1\t-->\tCalling Count:33\n",
      "seed:52\t-->\tCalling Count:7\n",
      "sep_indices:2\t-->\tCalling Count:1128227\n",
      "show_metric:False\t-->\tCalling Count:0\n",
      "spacy_model:en_core_web_sm\t-->\tCalling Count:3\n",
      "srd_alignment:True\t-->\tCalling Count:0\n",
      "use_bert_spc:True\t-->\tCalling Count:90552\n",
      "use_syntax_based_SRD:False\t-->\tCalling Count:39535\n",
      "warmup_step:-1\t-->\tCalling Count:50569\n",
      "window:lr\t-->\tCalling Count:0\n"
     ]
    }
   ],
   "source": [
    "# Use pretrained model \n",
    "aspect_extractor = ATEPCCheckpointManager.get_aspect_extractor(checkpoint='english', auto_device=False) # False means load model on CPU"
   ]
  },
  {
   "cell_type": "markdown",
   "id": "208b312e-5a46-4a8e-aba0-19c67f65252d",
   "metadata": {},
   "source": [
    "---"
   ]
  },
  {
   "cell_type": "code",
   "execution_count": 3,
   "id": "b782d542-d7b9-412d-8053-310d649e0123",
   "metadata": {},
   "outputs": [],
   "source": [
    "import pandas as pd\n",
    "\n",
    "# Load data\n",
    "restaurants_reviews = pd.read_parquet('restaurants_reviews')\n",
    "users_reviews = pd.read_parquet('users_reviews')"
   ]
  },
  {
   "cell_type": "code",
   "execution_count": 4,
   "id": "4eb24b02-1d89-4adc-80ff-2220d84cfc35",
   "metadata": {},
   "outputs": [],
   "source": [
    "restaurants_reviews.reset_index(drop=True, inplace=True)\n",
    "users_reviews.reset_index(drop=True, inplace=True)"
   ]
  },
  {
   "cell_type": "code",
   "execution_count": 5,
   "id": "52259fe5-d604-42b9-a5ab-1da6d0b90742",
   "metadata": {},
   "outputs": [],
   "source": [
    "restaurants_reviews_text = restaurants_reviews['text']\n",
    "users_reviews_text = users_reviews['text']"
   ]
  },
  {
   "cell_type": "code",
   "execution_count": 1,
   "id": "1be2a502-2e0a-46c3-83a7-465a1534732d",
   "metadata": {},
   "outputs": [],
   "source": [
    "from nltk.stem.wordnet import WordNetLemmatizer\n",
    "lemma = WordNetLemmatizer()"
   ]
  },
  {
   "cell_type": "code",
   "execution_count": 7,
   "id": "87d7280b-1d74-4513-8fe4-f4ffc385c56b",
   "metadata": {},
   "outputs": [],
   "source": [
    "def preprocess(review):\n",
    "    sentences = [sentence.strip().lower() for sentence in review.replace('\\n', '').split('.')] # remove next-line and split by '.'\n",
    "    sentences_handled = []\n",
    "    for i, sentence in enumerate(sentences):\n",
    "        tokens = [lemma.lemmatize(lemma.lemmatize(token, pos='v'), pos='n') for token in sentence.split(' ') if token]\n",
    "        if len(tokens) > 0:\n",
    "            sentences_handled.append(' '.join(tokens))\n",
    "    return sentences_handled"
   ]
  },
  {
   "cell_type": "code",
   "execution_count": 8,
   "id": "66d0a131-c1a8-47b5-b8a2-13bc3bbcc3bc",
   "metadata": {},
   "outputs": [],
   "source": [
    "restaurants_reviews_sentences = restaurants_reviews_text.apply(preprocess)\n",
    "users_reviews_sentences = users_reviews_text.apply(preprocess)"
   ]
  },
  {
   "cell_type": "code",
   "execution_count": 9,
   "id": "e629ca3e-deb4-4b8d-bf02-29a3d2f1f7a2",
   "metadata": {},
   "outputs": [],
   "source": [
    "from IPython.display import clear_output as clear\n",
    "count = 0\n",
    "length = restaurants_reviews_sentences.shape[0]\n",
    "\n",
    "def innerFunc(sentences):\n",
    "    global count\n",
    "    if count % 5 == 0:\n",
    "        clear()\n",
    "        print('Process:', f'{count}/{length}')\n",
    "    count += 1\n",
    "    result = aspect_extractor.extract_aspect(inference_source=sentences, save_result=False, print_result=False, pred_sentiment=True)\n",
    "    return list(map(lambda item: {'aspect': item['aspect'], 'sentiment': item['sentiment']}, result))"
   ]
  },
  {
   "cell_type": "code",
   "execution_count": null,
   "id": "7d0ce0af-bd2d-43fc-9eff-dfb771de2780",
   "metadata": {},
   "outputs": [
    {
     "name": "stdout",
     "output_type": "stream",
     "text": [
      "Process: 4120/20000\n"
     ]
    }
   ],
   "source": [
    "restaurants_aspects_with_polarities = restaurants_reviews_sentences.apply(innerFunc)"
   ]
  },
  {
   "cell_type": "code",
   "execution_count": null,
   "id": "b685786f-3a7c-4d3a-924c-f184634c5bdc",
   "metadata": {},
   "outputs": [],
   "source": [
    "restaurants_reviews['aspect_polarity'] = restaurants_aspects_with_polarities"
   ]
  },
  {
   "cell_type": "code",
   "execution_count": null,
   "id": "59849367-760a-43a8-8c43-651e95bd4846",
   "metadata": {},
   "outputs": [],
   "source": [
    "restaurants_reviews.to_parquet('restaurants_reviews_with_aspects_polarities')"
   ]
  },
  {
   "cell_type": "code",
   "execution_count": null,
   "id": "dc510b3f-01dd-4972-8a24-8675db23c0eb",
   "metadata": {},
   "outputs": [],
   "source": [
    "count = 0\n",
    "length = users_reviews_sentences.shape[0]\n",
    "users_aspects_with_polarities = users_reviews_sentences.apply(innerFunc)"
   ]
  },
  {
   "cell_type": "code",
   "execution_count": null,
   "id": "91f436f6-38ba-4fa6-acaa-188f4ea7bd86",
   "metadata": {},
   "outputs": [],
   "source": [
    "users_reviews['aspect_polarity'] = users_aspects_with_polarities"
   ]
  },
  {
   "cell_type": "code",
   "execution_count": null,
   "id": "1f27bc55-eef8-4e9f-994c-d067ab26d2b7",
   "metadata": {},
   "outputs": [],
   "source": [
    "users_reviews.to_parquet('users_reviews_with_aspects_polarities')"
   ]
  }
 ],
 "metadata": {
  "kernelspec": {
   "display_name": "default:Python",
   "language": "python",
   "name": "conda-env-default-py"
  },
  "language_info": {
   "codemirror_mode": {
    "name": "ipython",
    "version": 3
   },
   "file_extension": ".py",
   "mimetype": "text/x-python",
   "name": "python",
   "nbconvert_exporter": "python",
   "pygments_lexer": "ipython3",
   "version": "3.9.10"
  }
 },
 "nbformat": 4,
 "nbformat_minor": 5
}
